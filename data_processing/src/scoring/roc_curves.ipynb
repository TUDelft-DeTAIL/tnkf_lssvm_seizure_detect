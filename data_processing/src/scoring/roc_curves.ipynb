{
 "cells": [
  {
   "cell_type": "markdown",
   "metadata": {
    "collapsed": true,
    "pycharm": {
     "name": "#%% md\n"
    }
   },
   "source": [
    "# ROC curves of TNKF-LSSVM and LS-SVM"
   ]
  },
  {
   "cell_type": "markdown",
   "metadata": {},
   "source": [
    "Import packages"
   ]
  },
  {
   "cell_type": "code",
   "execution_count": 74,
   "metadata": {
    "pycharm": {
     "name": "#%%\n"
    }
   },
   "outputs": [],
   "source": [
    "import os\n",
    "from sklearn import metrics\n",
    "\n",
    "import numpy as np\n",
    "import pandas as pd\n",
    "import mat73\n",
    "import matplotlib.pyplot as plt\n",
    "# import matplotlib\n",
    "import tikzplotlib\n",
    "\n",
    "from tusz_data_processing.config import FEATURES_DIR, TUSZ_DIR\n",
    "# import tusz_data_processing.load_functions as lf\n",
    "%matplotlib qt"
   ]
  },
  {
   "cell_type": "markdown",
   "metadata": {},
   "source": [
    "Set global variables"
   ]
  },
  {
   "cell_type": "code",
   "execution_count": 75,
   "metadata": {
    "pycharm": {
     "name": "#%%\n"
    }
   },
   "outputs": [],
   "source": [
    "RESULTS_FOLDER = FEATURES_DIR + \"/results/\"\n",
    "LSSVM_DEV = RESULTS_FOLDER + \"lssvm/dev1_output.csv\"\n",
    "LSSVM_EVAL = RESULTS_FOLDER + \"lssvm/eval1_output.csv\"\n",
    "TNKF_DEV = RESULTS_FOLDER + \"tnkf_subset/dev_1.csv\"\n",
    "TNKF_EVAL = RESULTS_FOLDER + \"tnkf_subset/eval_1.csv\"\n",
    "TNKF_DEV_FULL = RESULTS_FOLDER + \"gamma=0.10_sigma2=6.00/predicted.mat\"\n",
    "TNKF_EVAL_FULL = RESULTS_FOLDER + \"eval/gamma=0.10_sigma2=6.00/predicted.mat\"\n"
   ]
  },
  {
   "cell_type": "markdown",
   "metadata": {},
   "source": []
  },
  {
   "cell_type": "code",
   "execution_count": 76,
   "metadata": {
    "pycharm": {
     "name": "#%%\n"
    }
   },
   "outputs": [],
   "source": [
    "def load_predictions(prediction_file):\n",
    "    # %% Load predictions\n",
    "    prediction_file = os.path.abspath(prediction_file)\n",
    "    file, ext = os.path.splitext(prediction_file)\n",
    "    if ext == \".mat\":\n",
    "        predictions = mat73.loadmat(prediction_file)\n",
    "        predictions = pd.DataFrame(predictions)\n",
    "    elif ext == \".csv\":\n",
    "        predictions = pd.read_csv(prediction_file)\n",
    "    else:\n",
    "        raise Exception(\"Function not defined for files of this type.\")\n",
    "    # predictions had cols: 'predicted_labels', 'svm_output', (opt.) 'vat_output'\n",
    "    predictions.reset_index(inplace=True, drop=True)\n",
    "    return predictions"
   ]
  },
  {
   "cell_type": "code",
   "execution_count": 77,
   "metadata": {
    "pycharm": {
     "name": "#%%\n"
    }
   },
   "outputs": [],
   "source": [
    "def get_roc_from_predictions(predictions: pd.DataFrame, labels = []):\n",
    "    labels = np.asarray(labels)\n",
    "    if 'y_val' in predictions:\n",
    "        labels = predictions['y_val'].to_numpy()\n",
    "    elif len(labels)<1:    # y_true empty and not in predictions dataframe\n",
    "        raise Exception(\"No labels provided or in prediction dataframe.\")\n",
    "\n",
    "    fpr, tpr, _ = metrics.roc_curve(labels, predictions['svm_output'].to_numpy())\n",
    "    auc = metrics.roc_auc_score(labels, predictions['svm_output'].to_numpy())\n",
    "\n",
    "    return fpr, tpr, auc"
   ]
  },
  {
   "cell_type": "code",
   "execution_count": 78,
   "metadata": {
    "pycharm": {
     "name": "#%%\n"
    }
   },
   "outputs": [],
   "source": [
    "def load_and_get_roc(prediction_file, labels=[]):\n",
    "\n",
    "    if isinstance(prediction_file, list):\n",
    "        n = len(prediction_file)\n",
    "        fpr = []\n",
    "        tpr = []\n",
    "        auc = []\n",
    "        for file in prediction_file:\n",
    "            predictions = load_predictions(file)\n",
    "            fpr_temp, tpr_temp, auc_temp = get_roc_from_predictions(predictions, labels)\n",
    "            fpr.append(fpr_temp)\n",
    "            tpr.append(tpr_temp)\n",
    "            auc.append(auc_temp)\n",
    "    else:\n",
    "        predictions = load_predictions(prediction_file)\n",
    "        fpr, tpr, auc = get_roc_from_predictions(predictions, labels)\n",
    "\n",
    "    return fpr, tpr, auc"
   ]
  },
  {
   "cell_type": "code",
   "execution_count": 79,
   "metadata": {
    "pycharm": {
     "name": "#%%\n"
    }
   },
   "outputs": [],
   "source": [
    "def get_average_roc(fpr_list, tpr_list, auc_list):\n",
    "\n",
    "    base_fpr = np.linspace(0, 1, 101)\n",
    "    tprs = []\n",
    "    for (fpr, tpr, auc) in zip(fpr_list, tpr_list, auc_list):\n",
    "        tpr = np.interp(base_fpr, fpr, tpr)\n",
    "        tpr[0] = 0.0\n",
    "        tprs.append(tpr)\n",
    "\n",
    "    mean_tpr = np.mean(tprs, axis=0)\n",
    "    std_tpr = np.std(tprs, axis=0)\n",
    "    mean_auc = np.mean(auc_list)\n",
    "    std_auc = np.std(auc_list)\n",
    "\n",
    "    return base_fpr, mean_tpr, mean_auc, std_tpr, std_auc"
   ]
  },
  {
   "cell_type": "code",
   "execution_count": 80,
   "metadata": {
    "pycharm": {
     "name": "#%%\n"
    }
   },
   "outputs": [],
   "source": [
    "def plot_roc_curve_2(fpr_0, tpr_0, auc_0, fpr_1, tpr_1, auc_1, labels= [\"LS-SVM\", \"TNKF-LSSVM\"]):\n",
    "\n",
    "    plt.figure()\n",
    "    if isinstance(fpr_0, list):\n",
    "        base_fpr, mean_tpr, mean_auc, std_tpr, std_auc = get_average_roc(fpr_0, tpr_0, auc_0)\n",
    "        plt.plot(base_fpr, mean_tpr, 'b', label=labels[0]+\" (AUC = %0.2f $\\pm$ %.2f)\" % (mean_auc, std_auc), linewidth=3)\n",
    "        tprs_upper = np.minimum(mean_tpr + 2*std_tpr, 1)\n",
    "        tprs_lower = mean_tpr - 2*std_tpr\n",
    "        plt.fill_between(base_fpr, tprs_lower, tprs_upper, color='blue', alpha=0.2)\n",
    "    else:\n",
    "        plt.plot(fpr_0, tpr_0, color='blue', linewidth=4, label=labels[0]+\" (AUC = %0.3f)\" % (auc_0))\n",
    "\n",
    "    if isinstance(fpr_1, list):\n",
    "        base_fpr, mean_tpr, mean_auc, std_tpr, std_auc = get_average_roc(fpr_1, tpr_1, auc_1)\n",
    "        plt.plot(base_fpr, mean_tpr, 'r', label=labels[1]+\" (AUC = %0.2f $\\pm$ %.2f)\" % (mean_auc, std_auc), linewidth=3)\n",
    "        tprs_upper = np.minimum(mean_tpr + std_tpr, 1)\n",
    "        tprs_lower = mean_tpr - std_tpr\n",
    "        plt.fill_between(base_fpr, tprs_lower, tprs_upper, color='red', alpha=0.2)\n",
    "    else:\n",
    "        plt.plot(fpr_1, tpr_1, color='red', linewidth=4, label=labels[1]+\" (AUC = %0.3f)\" % (auc_1))\n",
    "\n",
    "    plt.legend(loc='lower right')\n",
    "    plt.xlabel(\"False Positive Rate\")\n",
    "    plt.ylabel(\"True Positive Rate\")\n",
    "\n",
    "    return"
   ]
  },
  {
   "cell_type": "code",
   "execution_count": 81,
   "metadata": {
    "pycharm": {
     "name": "#%%\n"
    }
   },
   "outputs": [],
   "source": [
    "def plot_roc_curve_3(fpr_0, tpr_0, auc_0, fpr_1, tpr_1, auc_1, fpr_2, tpr_2, auc_2, labels=[\"LS-SVM\", \"TNKF small sample\", \"TNKF large sample\"]):\n",
    "\n",
    "    plt.figure()\n",
    "    if isinstance(fpr_0, list):\n",
    "        base_fpr, mean_tpr, mean_auc, std_tpr, std_auc = get_average_roc(fpr_0, tpr_0, auc_0)\n",
    "        plt.plot(base_fpr, mean_tpr, color='tab:blue', label=labels[0]+\" (AUC = %0.2f $\\pm$ %.2f)\" % (mean_auc, std_auc), linewidth=3)\n",
    "        tprs_upper = np.minimum(mean_tpr + 2*std_tpr, 1)\n",
    "        tprs_lower = mean_tpr - 2*std_tpr\n",
    "        plt.fill_between(base_fpr, tprs_lower, tprs_upper, color='blue', alpha=0.2)\n",
    "    else:\n",
    "        plt.plot(fpr_0, tpr_0, color='tab:blue', linewidth=4, label=labels[0]+\" (AUC = %0.3f)\" % (auc_0))\n",
    "\n",
    "    if isinstance(fpr_1, list):\n",
    "        base_fpr, mean_tpr, mean_auc, std_tpr, std_auc = get_average_roc(fpr_1, tpr_1, auc_1)\n",
    "        plt.plot(base_fpr, mean_tpr, color='tab:orange', label=labels[1]+\" (AUC = %0.2f $\\pm$ %.2f)\" % (mean_auc, std_auc), linewidth=3)\n",
    "        tprs_upper = np.minimum(mean_tpr + std_tpr, 1)\n",
    "        tprs_lower = mean_tpr - std_tpr\n",
    "        plt.fill_between(base_fpr, tprs_lower, tprs_upper, color='red', alpha=0.2)\n",
    "    else:\n",
    "        plt.plot(fpr_1, tpr_1, color='tab:orange', linewidth=4, label=labels[1]+\" (AUC = %0.3f)\" % (auc_1))\n",
    "\n",
    "    if isinstance(fpr_2, list):\n",
    "        base_fpr, mean_tpr, mean_auc, std_tpr, std_auc = get_average_roc(fpr_2, tpr_2, auc_2)\n",
    "        plt.plot(base_fpr, mean_tpr, 'r', label=labels[2]+\" (AUC = %0.2f $\\pm$ %.2f)\" % (mean_auc, std_auc), linewidth=3)\n",
    "        tprs_upper = np.minimum(mean_tpr + std_tpr, 1)\n",
    "        tprs_lower = mean_tpr - std_tpr\n",
    "        plt.fill_between(base_fpr, tprs_lower, tprs_upper, color='red', alpha=0.2)\n",
    "    else:\n",
    "        plt.plot(fpr_2, tpr_2, color='tab:green', linewidth=4, label=labels[2]+\" (AUC = %0.3f)\" % (auc_2))\n",
    "\n",
    "    plt.legend(loc='lower right')\n",
    "    plt.xlabel(\"False Positive Rate\")\n",
    "    plt.ylabel(\"True Positive Rate\")\n",
    "\n",
    "    return"
   ]
  },
  {
   "cell_type": "markdown",
   "metadata": {},
   "source": [
    "### Load results on 'dev' set"
   ]
  },
  {
   "cell_type": "markdown",
   "metadata": {},
   "source": [
    "Set font size for plots"
   ]
  },
  {
   "cell_type": "code",
   "execution_count": 82,
   "metadata": {
    "pycharm": {
     "name": "#%%\n"
    }
   },
   "outputs": [],
   "source": [
    "params = {\n",
    "    'axes.labelsize': 14,\n",
    "    'axes.titlesize':14,\n",
    "    'xtick.labelsize':12,\n",
    "    'ytick.labelsize':12,\n",
    "    'axes.titlepad': 1,\n",
    "    'axes.labelpad': 1,\n",
    "    'font.size': 13\n",
    "}\n",
    "\n",
    "plt.rcParams.update(params)"
   ]
  },
  {
   "cell_type": "markdown",
   "metadata": {},
   "source": [
    "Load predictions on 'dev' set"
   ]
  },
  {
   "cell_type": "code",
   "execution_count": 83,
   "metadata": {
    "pycharm": {
     "name": "#%%\n"
    }
   },
   "outputs": [
    {
     "name": "stdout",
     "output_type": "stream",
     "text": [
      "0.7293637867350267\n"
     ]
    }
   ],
   "source": [
    "# fpr_tnkf, tpr_tnkf, auc_tnkf = load_and_get_roc(TNKF_DEV_FULL)\n",
    "lssvm_dev = load_predictions(LSSVM_DEV)\n",
    "y_val = lssvm_dev['y_val'].to_numpy()\n",
    "fpr_lssvm, tpr_lssvm, auc_lssvm = load_and_get_roc(LSSVM_DEV)\n",
    "print(auc_lssvm)"
   ]
  },
  {
   "cell_type": "markdown",
   "metadata": {},
   "source": [
    "Load TNKF Predictions: first on sample then on full training set"
   ]
  },
  {
   "cell_type": "code",
   "execution_count": 84,
   "metadata": {},
   "outputs": [
    {
     "name": "stdout",
     "output_type": "stream",
     "text": [
      "0.7266682490127752\n"
     ]
    }
   ],
   "source": [
    "fpr_tnkf_sample, tpr_tnkf_sample, auc_tnkf_sample = load_and_get_roc(TNKF_DEV, labels=y_val)\n",
    "print(auc_tnkf_sample)"
   ]
  },
  {
   "cell_type": "code",
   "execution_count": 85,
   "metadata": {
    "pycharm": {
     "name": "#%%\n"
    }
   },
   "outputs": [
    {
     "name": "stdout",
     "output_type": "stream",
     "text": [
      "0.7058886073494446\n"
     ]
    }
   ],
   "source": [
    "fpr_tnkf, tpr_tnkf, auc_tnkf = load_and_get_roc(TNKF_DEV_FULL, labels=y_val)\n",
    "print(auc_tnkf)"
   ]
  },
  {
   "cell_type": "markdown",
   "metadata": {},
   "source": [
    "Plot ROC curve"
   ]
  },
  {
   "cell_type": "code",
   "execution_count": 86,
   "metadata": {
    "pycharm": {
     "name": "#%%\n"
    }
   },
   "outputs": [
    {
     "data": {
      "image/png": "[encoded data removed]",
      "text/plain": [
       "<Figure size 432x288 with 1 Axes>"
      ]
     },
     "metadata": {
      "needs_background": "light"
     },
     "output_type": "display_data"
    }
   ],
   "source": [
    "%matplotlib inline\n",
    "plot_roc_curve_3(fpr_lssvm, tpr_lssvm, auc_lssvm,fpr_tnkf_sample, tpr_tnkf_sample, auc_tnkf_sample, fpr_tnkf, tpr_tnkf, auc_tnkf)"
   ]
  },
  {
   "cell_type": "markdown",
   "metadata": {},
   "source": [
    "Save to latex compatible file"
   ]
  },
  {
   "cell_type": "code",
   "execution_count": 87,
   "metadata": {
    "pycharm": {
     "name": "#%%\n"
    }
   },
   "outputs": [
    {
     "data": {
      "text/plain": [
       "<Figure size 432x288 with 0 Axes>"
      ]
     },
     "metadata": {},
     "output_type": "display_data"
    }
   ],
   "source": [
    "plt.savefig('dev_roc.png', format='png')\n",
    "# plt.savefig('dev_roc.pgf', format='pgf')\n",
    "tikzplotlib.save('dev_roc.tex')"
   ]
  },
  {
   "cell_type": "markdown",
   "metadata": {},
   "source": [
    "### Eval set"
   ]
  },
  {
   "cell_type": "code",
   "execution_count": 88,
   "metadata": {
    "pycharm": {
     "name": "#%%\n"
    }
   },
   "outputs": [
    {
     "name": "stdout",
     "output_type": "stream",
     "text": [
      "0.7971198039485461\n"
     ]
    }
   ],
   "source": [
    "# fpr_tnkf, tpr_tnkf, auc_tnkf = load_and_get_roc(TNKF_DEV_FULL)\n",
    "lssvm_eval = load_predictions(LSSVM_EVAL)\n",
    "y_val = lssvm_eval['y_val'].to_numpy()\n",
    "fpr_lssvm, tpr_lssvm, auc_lssvm = load_and_get_roc(LSSVM_EVAL)\n",
    "print(auc_lssvm)"
   ]
  },
  {
   "cell_type": "code",
   "execution_count": 89,
   "metadata": {
    "pycharm": {
     "name": "#%%\n"
    }
   },
   "outputs": [
    {
     "name": "stdout",
     "output_type": "stream",
     "text": [
      "0.8111631366978878\n"
     ]
    }
   ],
   "source": [
    "fpr_tnkf_sample, tpr_tnkf_sample, auc_tnkf_sample = load_and_get_roc(TNKF_EVAL, labels=y_val)\n",
    "print(auc_tnkf_sample)"
   ]
  },
  {
   "cell_type": "code",
   "execution_count": 90,
   "metadata": {
    "pycharm": {
     "name": "#%%\n"
    }
   },
   "outputs": [
    {
     "name": "stdout",
     "output_type": "stream",
     "text": [
      "0.7595227643003485\n"
     ]
    }
   ],
   "source": [
    "fpr_tnkf, tpr_tnkf, auc_tnkf = load_and_get_roc(TNKF_EVAL_FULL, labels=y_val)\n",
    "print(auc_tnkf)"
   ]
  },
  {
   "cell_type": "code",
   "execution_count": 91,
   "metadata": {
    "pycharm": {
     "name": "#%%\n"
    }
   },
   "outputs": [
    {
     "data": {
      "image/png": "[encoded data removed]",
      "text/plain": [
       "<Figure size 432x288 with 1 Axes>"
      ]
     },
     "metadata": {
      "needs_background": "light"
     },
     "output_type": "display_data"
    }
   ],
   "source": [
    "%matplotlib inline\n",
    "# plot_roc_curve_2(fpr_lssvm, tpr_lssvm, auc_lssvm, fpr_tnkf_sample, tpr_tnkf_sample, auc_tnkf_sample)\n",
    "plot_roc_curve_3(fpr_lssvm, tpr_lssvm, auc_lssvm,fpr_tnkf_sample, tpr_tnkf_sample, auc_tnkf_sample, fpr_tnkf, tpr_tnkf, auc_tnkf)"
   ]
  },
  {
   "cell_type": "code",
   "execution_count": 92,
   "metadata": {
    "pycharm": {
     "name": "#%%\n"
    }
   },
   "outputs": [
    {
     "data": {
      "text/plain": [
       "<Figure size 432x288 with 0 Axes>"
      ]
     },
     "metadata": {},
     "output_type": "display_data"
    }
   ],
   "source": [
    "# plt.savefig('eval_roc.png', format='png')\n",
    "plt.savefig('eval_roc_large.pgf', format='pgf')\n",
    "# tikzplotlib.save('eval_roc.tex')"
   ]
  },
  {
   "cell_type": "markdown",
   "metadata": {
    "pycharm": {
     "name": "#%% md\n"
    }
   },
   "source": []
  }
 ],
 "metadata": {
  "kernelspec": {
   "display_name": "Python 3.9.7 ('base')",
   "language": "python",
   "name": "python3"
  },
  "language_info": {
   "codemirror_mode": {
    "name": "ipython",
    "version": 3
   },
   "file_extension": ".py",
   "mimetype": "text/x-python",
   "name": "python",
   "nbconvert_exporter": "python",
   "pygments_lexer": "ipython3",
   "version": "3.9.7"
  },
  "vscode": {
   "interpreter": {
    "hash": "78c81885c34c68ffb98810c0a5f4af4fa83b2566420e692aa4f1d7a45f6d35a1"
   }
  }
 },
 "nbformat": 4,
 "nbformat_minor": 1
}
